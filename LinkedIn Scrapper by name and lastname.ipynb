{
 "cells": [
  {
   "cell_type": "markdown",
   "metadata": {},
   "source": [
    "# LINKEDIN SCRAPPER BY NAME AND LASTNAME"
   ]
  },
  {
   "cell_type": "code",
   "execution_count": 2,
   "metadata": {},
   "outputs": [],
   "source": [
    "import requests, time, random\n",
    "from bs4 import BeautifulSoup as bs\n",
    "from selenium import webdriver\n",
    "import pandas as pd"
   ]
  },
  {
   "cell_type": "code",
   "execution_count": 3,
   "metadata": {
    "collapsed": true
   },
   "outputs": [
    {
     "ename": "StaleElementReferenceException",
     "evalue": "Message: stale element reference: element is not attached to the page document\n  (Session info: chrome=79.0.3945.117)\n",
     "output_type": "error",
     "traceback": [
      "\u001b[1;31m---------------------------------------------------------------------------\u001b[0m",
      "\u001b[1;31mStaleElementReferenceException\u001b[0m            Traceback (most recent call last)",
      "\u001b[1;32m<ipython-input-3-5f059eceaff8>\u001b[0m in \u001b[0;36m<module>\u001b[1;34m\u001b[0m\n\u001b[0;32m     15\u001b[0m \u001b[0melementID\u001b[0m\u001b[1;33m.\u001b[0m\u001b[0msend_keys\u001b[0m\u001b[1;33m(\u001b[0m\u001b[0mpassword\u001b[0m\u001b[1;33m)\u001b[0m\u001b[1;33m\u001b[0m\u001b[1;33m\u001b[0m\u001b[0m\n\u001b[0;32m     16\u001b[0m \u001b[1;33m\u001b[0m\u001b[0m\n\u001b[1;32m---> 17\u001b[1;33m \u001b[0melementID\u001b[0m\u001b[1;33m.\u001b[0m\u001b[0msubmit\u001b[0m\u001b[1;33m(\u001b[0m\u001b[1;33m)\u001b[0m\u001b[1;33m\u001b[0m\u001b[1;33m\u001b[0m\u001b[0m\n\u001b[0m",
      "\u001b[1;32m~\\Anaconda3\\lib\\site-packages\\selenium\\webdriver\\remote\\webelement.py\u001b[0m in \u001b[0;36msubmit\u001b[1;34m(self)\u001b[0m\n\u001b[0;32m     83\u001b[0m         \u001b[1;34m\"\"\"Submits a form.\"\"\"\u001b[0m\u001b[1;33m\u001b[0m\u001b[1;33m\u001b[0m\u001b[0m\n\u001b[0;32m     84\u001b[0m         \u001b[1;32mif\u001b[0m \u001b[0mself\u001b[0m\u001b[1;33m.\u001b[0m\u001b[0m_w3c\u001b[0m\u001b[1;33m:\u001b[0m\u001b[1;33m\u001b[0m\u001b[1;33m\u001b[0m\u001b[0m\n\u001b[1;32m---> 85\u001b[1;33m             \u001b[0mform\u001b[0m \u001b[1;33m=\u001b[0m \u001b[0mself\u001b[0m\u001b[1;33m.\u001b[0m\u001b[0mfind_element\u001b[0m\u001b[1;33m(\u001b[0m\u001b[0mBy\u001b[0m\u001b[1;33m.\u001b[0m\u001b[0mXPATH\u001b[0m\u001b[1;33m,\u001b[0m \u001b[1;34m\"./ancestor-or-self::form\"\u001b[0m\u001b[1;33m)\u001b[0m\u001b[1;33m\u001b[0m\u001b[1;33m\u001b[0m\u001b[0m\n\u001b[0m\u001b[0;32m     86\u001b[0m             self._parent.execute_script(\n\u001b[0;32m     87\u001b[0m                 \u001b[1;34m\"var e = arguments[0].ownerDocument.createEvent('Event');\"\u001b[0m\u001b[1;33m\u001b[0m\u001b[1;33m\u001b[0m\u001b[0m\n",
      "\u001b[1;32m~\\Anaconda3\\lib\\site-packages\\selenium\\webdriver\\remote\\webelement.py\u001b[0m in \u001b[0;36mfind_element\u001b[1;34m(self, by, value)\u001b[0m\n\u001b[0;32m    657\u001b[0m \u001b[1;33m\u001b[0m\u001b[0m\n\u001b[0;32m    658\u001b[0m         return self._execute(Command.FIND_CHILD_ELEMENT,\n\u001b[1;32m--> 659\u001b[1;33m                              {\"using\": by, \"value\": value})['value']\n\u001b[0m\u001b[0;32m    660\u001b[0m \u001b[1;33m\u001b[0m\u001b[0m\n\u001b[0;32m    661\u001b[0m     \u001b[1;32mdef\u001b[0m \u001b[0mfind_elements\u001b[0m\u001b[1;33m(\u001b[0m\u001b[0mself\u001b[0m\u001b[1;33m,\u001b[0m \u001b[0mby\u001b[0m\u001b[1;33m=\u001b[0m\u001b[0mBy\u001b[0m\u001b[1;33m.\u001b[0m\u001b[0mID\u001b[0m\u001b[1;33m,\u001b[0m \u001b[0mvalue\u001b[0m\u001b[1;33m=\u001b[0m\u001b[1;32mNone\u001b[0m\u001b[1;33m)\u001b[0m\u001b[1;33m:\u001b[0m\u001b[1;33m\u001b[0m\u001b[1;33m\u001b[0m\u001b[0m\n",
      "\u001b[1;32m~\\Anaconda3\\lib\\site-packages\\selenium\\webdriver\\remote\\webelement.py\u001b[0m in \u001b[0;36m_execute\u001b[1;34m(self, command, params)\u001b[0m\n\u001b[0;32m    631\u001b[0m             \u001b[0mparams\u001b[0m \u001b[1;33m=\u001b[0m \u001b[1;33m{\u001b[0m\u001b[1;33m}\u001b[0m\u001b[1;33m\u001b[0m\u001b[1;33m\u001b[0m\u001b[0m\n\u001b[0;32m    632\u001b[0m         \u001b[0mparams\u001b[0m\u001b[1;33m[\u001b[0m\u001b[1;34m'id'\u001b[0m\u001b[1;33m]\u001b[0m \u001b[1;33m=\u001b[0m \u001b[0mself\u001b[0m\u001b[1;33m.\u001b[0m\u001b[0m_id\u001b[0m\u001b[1;33m\u001b[0m\u001b[1;33m\u001b[0m\u001b[0m\n\u001b[1;32m--> 633\u001b[1;33m         \u001b[1;32mreturn\u001b[0m \u001b[0mself\u001b[0m\u001b[1;33m.\u001b[0m\u001b[0m_parent\u001b[0m\u001b[1;33m.\u001b[0m\u001b[0mexecute\u001b[0m\u001b[1;33m(\u001b[0m\u001b[0mcommand\u001b[0m\u001b[1;33m,\u001b[0m \u001b[0mparams\u001b[0m\u001b[1;33m)\u001b[0m\u001b[1;33m\u001b[0m\u001b[1;33m\u001b[0m\u001b[0m\n\u001b[0m\u001b[0;32m    634\u001b[0m \u001b[1;33m\u001b[0m\u001b[0m\n\u001b[0;32m    635\u001b[0m     \u001b[1;32mdef\u001b[0m \u001b[0mfind_element\u001b[0m\u001b[1;33m(\u001b[0m\u001b[0mself\u001b[0m\u001b[1;33m,\u001b[0m \u001b[0mby\u001b[0m\u001b[1;33m=\u001b[0m\u001b[0mBy\u001b[0m\u001b[1;33m.\u001b[0m\u001b[0mID\u001b[0m\u001b[1;33m,\u001b[0m \u001b[0mvalue\u001b[0m\u001b[1;33m=\u001b[0m\u001b[1;32mNone\u001b[0m\u001b[1;33m)\u001b[0m\u001b[1;33m:\u001b[0m\u001b[1;33m\u001b[0m\u001b[1;33m\u001b[0m\u001b[0m\n",
      "\u001b[1;32m~\\Anaconda3\\lib\\site-packages\\selenium\\webdriver\\remote\\webdriver.py\u001b[0m in \u001b[0;36mexecute\u001b[1;34m(self, driver_command, params)\u001b[0m\n\u001b[0;32m    319\u001b[0m         \u001b[0mresponse\u001b[0m \u001b[1;33m=\u001b[0m \u001b[0mself\u001b[0m\u001b[1;33m.\u001b[0m\u001b[0mcommand_executor\u001b[0m\u001b[1;33m.\u001b[0m\u001b[0mexecute\u001b[0m\u001b[1;33m(\u001b[0m\u001b[0mdriver_command\u001b[0m\u001b[1;33m,\u001b[0m \u001b[0mparams\u001b[0m\u001b[1;33m)\u001b[0m\u001b[1;33m\u001b[0m\u001b[1;33m\u001b[0m\u001b[0m\n\u001b[0;32m    320\u001b[0m         \u001b[1;32mif\u001b[0m \u001b[0mresponse\u001b[0m\u001b[1;33m:\u001b[0m\u001b[1;33m\u001b[0m\u001b[1;33m\u001b[0m\u001b[0m\n\u001b[1;32m--> 321\u001b[1;33m             \u001b[0mself\u001b[0m\u001b[1;33m.\u001b[0m\u001b[0merror_handler\u001b[0m\u001b[1;33m.\u001b[0m\u001b[0mcheck_response\u001b[0m\u001b[1;33m(\u001b[0m\u001b[0mresponse\u001b[0m\u001b[1;33m)\u001b[0m\u001b[1;33m\u001b[0m\u001b[1;33m\u001b[0m\u001b[0m\n\u001b[0m\u001b[0;32m    322\u001b[0m             response['value'] = self._unwrap_value(\n\u001b[0;32m    323\u001b[0m                 response.get('value', None))\n",
      "\u001b[1;32m~\\Anaconda3\\lib\\site-packages\\selenium\\webdriver\\remote\\errorhandler.py\u001b[0m in \u001b[0;36mcheck_response\u001b[1;34m(self, response)\u001b[0m\n\u001b[0;32m    240\u001b[0m                 \u001b[0malert_text\u001b[0m \u001b[1;33m=\u001b[0m \u001b[0mvalue\u001b[0m\u001b[1;33m[\u001b[0m\u001b[1;34m'alert'\u001b[0m\u001b[1;33m]\u001b[0m\u001b[1;33m.\u001b[0m\u001b[0mget\u001b[0m\u001b[1;33m(\u001b[0m\u001b[1;34m'text'\u001b[0m\u001b[1;33m)\u001b[0m\u001b[1;33m\u001b[0m\u001b[1;33m\u001b[0m\u001b[0m\n\u001b[0;32m    241\u001b[0m             \u001b[1;32mraise\u001b[0m \u001b[0mexception_class\u001b[0m\u001b[1;33m(\u001b[0m\u001b[0mmessage\u001b[0m\u001b[1;33m,\u001b[0m \u001b[0mscreen\u001b[0m\u001b[1;33m,\u001b[0m \u001b[0mstacktrace\u001b[0m\u001b[1;33m,\u001b[0m \u001b[0malert_text\u001b[0m\u001b[1;33m)\u001b[0m\u001b[1;33m\u001b[0m\u001b[1;33m\u001b[0m\u001b[0m\n\u001b[1;32m--> 242\u001b[1;33m         \u001b[1;32mraise\u001b[0m \u001b[0mexception_class\u001b[0m\u001b[1;33m(\u001b[0m\u001b[0mmessage\u001b[0m\u001b[1;33m,\u001b[0m \u001b[0mscreen\u001b[0m\u001b[1;33m,\u001b[0m \u001b[0mstacktrace\u001b[0m\u001b[1;33m)\u001b[0m\u001b[1;33m\u001b[0m\u001b[1;33m\u001b[0m\u001b[0m\n\u001b[0m\u001b[0;32m    243\u001b[0m \u001b[1;33m\u001b[0m\u001b[0m\n\u001b[0;32m    244\u001b[0m     \u001b[1;32mdef\u001b[0m \u001b[0m_value_or_default\u001b[0m\u001b[1;33m(\u001b[0m\u001b[0mself\u001b[0m\u001b[1;33m,\u001b[0m \u001b[0mobj\u001b[0m\u001b[1;33m,\u001b[0m \u001b[0mkey\u001b[0m\u001b[1;33m,\u001b[0m \u001b[0mdefault\u001b[0m\u001b[1;33m)\u001b[0m\u001b[1;33m:\u001b[0m\u001b[1;33m\u001b[0m\u001b[1;33m\u001b[0m\u001b[0m\n",
      "\u001b[1;31mStaleElementReferenceException\u001b[0m: Message: stale element reference: element is not attached to the page document\n  (Session info: chrome=79.0.3945.117)\n"
     ]
    }
   ],
   "source": [
    "#iniciar sesion\n",
    "\n",
    "browser = webdriver.Chrome('driver/chromedriver.exe')\n",
    "browser.get('https://www.linkedin.com/uas/login')\n",
    "file = open('config.txt')\n",
    "lines = file.readlines()\n",
    "username = lines[0]\n",
    "password = lines[1]\n",
    "\n",
    "\n",
    "elementID = browser.find_element_by_id('username')\n",
    "elementID.send_keys(username)\n",
    "\n",
    "elementID = browser.find_element_by_id('password')\n",
    "elementID.send_keys(password)\n",
    "\n",
    "elementID.submit()"
   ]
  },
  {
   "cell_type": "code",
   "execution_count": 4,
   "metadata": {},
   "outputs": [],
   "source": [
    "#ejemplo\n",
    "buscar = 'maria alonso'\n",
    "name = buscar.split()"
   ]
  },
  {
   "cell_type": "code",
   "execution_count": null,
   "metadata": {},
   "outputs": [],
   "source": []
  },
  {
   "cell_type": "code",
   "execution_count": 5,
   "metadata": {},
   "outputs": [],
   "source": [
    "def slideBar():\n",
    "    SCROLL_PAUSE_TIME = 5\n",
    "\n",
    "    # Get scroll height\n",
    "    last_height = browser.execute_script(\"return document.body.scrollHeight\")\n",
    "\n",
    "    for i in range(5):\n",
    "        # Scroll down to bottom\n",
    "        browser.execute_script(\"window.scrollTo(0, document.body.scrollHeight);\")\n",
    "\n",
    "        # Wait to load page\n",
    "        time.sleep(SCROLL_PAUSE_TIME)\n",
    "\n",
    "        # Calculate new scroll height and compare with last scroll height\n",
    "        new_height = browser.execute_script(\"return document.body.scrollHeight\")\n",
    "        if new_height == last_height:\n",
    "            break\n",
    "        last_height = new_height"
   ]
  },
  {
   "cell_type": "code",
   "execution_count": 29,
   "metadata": {},
   "outputs": [],
   "source": [
    "linkRef = list()\n",
    "nombre = list()\n",
    "trabajo =list()\n",
    "pais = list()\n",
    "\n",
    "data =pd.DataFrame(columns=('nombre' ,'trabajo','pais','link'))\n",
    "\n",
    "cont = 0\n",
    "\n",
    "# Exact Link Text\n",
    "browser.get('https://www.linkedin.com/mwlite/search/results/all?keywords='+ name[0]+'+'+name[1]+'&origin=TYPEAHEAD_ESCAPE_HATCH')\n",
    "\n",
    "slideBar()\n",
    "#soup\n",
    "src = browser.page_source\n",
    "soup = bs(src, 'lxml')\n",
    "name_div = soup.find('ul', {'class': 'search-results'})\n",
    "div = name_div.find_all('div',{'class': 'flex-entity-lockup'})\n",
    "\n",
    "for div2 in div:\n",
    "    dataNombre = div2.find_all('h3',{'class': 'large-semibold name'})\n",
    "    for i in dataNombre:\n",
    "        nom = i.text\n",
    "        if nom[-2:] == 'er':\n",
    "            nom = nom[:-3]\n",
    "        nombre.append(nom)\n",
    "    \n",
    "    dataTrabajo = div2.find_all('div',{'class': 'medium-dark truncate-line headline'})\n",
    "    for i in dataTrabajo:\n",
    "        trabajo.append(i.text)\n",
    "        \n",
    "    dataPais = div2.find_all('dd',{'class': 'location small'})\n",
    "    for i in dataPais:\n",
    "        pais.append(i.text)\n",
    "    \n",
    "    dataLink = div2.find_all('a',{ 'class': 'profile-path primary-details'} , href = True)\n",
    "    for a in dataLink:\n",
    "        linkRef.append(a['href'])  \n",
    "    if pais[cont].find('erú')>0:\n",
    "        data.loc[cont] = nombre[cont], trabajo[cont], pais[cont], linkRef[cont]\n",
    "    cont += 1\n",
    "        "
   ]
  },
  {
   "cell_type": "code",
   "execution_count": 32,
   "metadata": {},
   "outputs": [],
   "source": [
    "data.to_excel(name[1]+'.xlsx')"
   ]
  },
  {
   "cell_type": "code",
   "execution_count": 50,
   "metadata": {},
   "outputs": [
    {
     "data": {
      "text/plain": [
       "['https://linkedin.com/in/maria-alonso-3977b691',\n",
       " 'Maria Alonso',\n",
       " 'Gerente de Business Intelligence y Revenue Assurance en Diners Club Perú',\n",
       " 'Perú']"
      ]
     },
     "execution_count": 50,
     "metadata": {},
     "output_type": "execute_result"
    }
   ],
   "source": [
    "#pagUser\n",
    "path = 'https://linkedin.com'+linkRef[0]\n",
    "browser.get(path)\n",
    "\n",
    "slideBar()\n",
    "\n",
    "src = browser.page_source\n",
    "soup = bs(src, 'lxml')\n",
    "\n",
    "name_div = soup.find('div', {'class': 'flex-1 mr5'})\n",
    "\n",
    "name_loc = name_div.find_all('ul')\n",
    "\n",
    "namess = name_loc[0].find('li').get_text().strip()\n",
    "\n",
    "loc = name_loc[1].find('li').get_text().strip()\n",
    "\n",
    "profile_title = name_div.find('h2').get_text().strip()\n",
    "\n",
    "info = []\n",
    "info.append(path)\n",
    "info.append(namess)\n",
    "info.append(profile_title)\n",
    "info.append(loc)\n",
    "info\n",
    "\n"
   ]
  },
  {
   "cell_type": "code",
   "execution_count": 51,
   "metadata": {},
   "outputs": [
    {
     "ename": "IndexError",
     "evalue": "list index out of range",
     "output_type": "error",
     "traceback": [
      "\u001b[1;31m---------------------------------------------------------------------------\u001b[0m",
      "\u001b[1;31mIndexError\u001b[0m                                Traceback (most recent call last)",
      "\u001b[1;32m<ipython-input-51-6498ff3da39b>\u001b[0m in \u001b[0;36m<module>\u001b[1;34m\u001b[0m\n\u001b[0;32m     13\u001b[0m \u001b[1;33m\u001b[0m\u001b[0m\n\u001b[0;32m     14\u001b[0m \u001b[0mjoining_date\u001b[0m \u001b[1;33m=\u001b[0m \u001b[0ma_tags\u001b[0m\u001b[1;33m.\u001b[0m\u001b[0mfind_all\u001b[0m\u001b[1;33m(\u001b[0m\u001b[1;34m'h4'\u001b[0m\u001b[1;33m)\u001b[0m\u001b[1;33m[\u001b[0m\u001b[1;36m0\u001b[0m\u001b[1;33m]\u001b[0m\u001b[1;33m.\u001b[0m\u001b[0mfind_all\u001b[0m\u001b[1;33m(\u001b[0m\u001b[1;34m'span'\u001b[0m\u001b[1;33m)\u001b[0m\u001b[1;33m[\u001b[0m\u001b[1;36m1\u001b[0m\u001b[1;33m]\u001b[0m\u001b[1;33m.\u001b[0m\u001b[0mget_text\u001b[0m\u001b[1;33m(\u001b[0m\u001b[1;33m)\u001b[0m\u001b[1;33m.\u001b[0m\u001b[0mstrip\u001b[0m\u001b[1;33m(\u001b[0m\u001b[1;33m)\u001b[0m\u001b[1;33m\u001b[0m\u001b[1;33m\u001b[0m\u001b[0m\n\u001b[1;32m---> 15\u001b[1;33m \u001b[0mexp\u001b[0m \u001b[1;33m=\u001b[0m \u001b[0ma_tags\u001b[0m\u001b[1;33m.\u001b[0m\u001b[0mfind_all\u001b[0m\u001b[1;33m(\u001b[0m\u001b[1;34m'h4'\u001b[0m\u001b[1;33m)\u001b[0m\u001b[1;33m[\u001b[0m\u001b[1;36m1\u001b[0m\u001b[1;33m]\u001b[0m\u001b[1;33m.\u001b[0m\u001b[0mfind_all\u001b[0m\u001b[1;33m(\u001b[0m\u001b[1;34m'span'\u001b[0m\u001b[1;33m)\u001b[0m\u001b[1;33m[\u001b[0m\u001b[1;36m1\u001b[0m\u001b[1;33m]\u001b[0m\u001b[1;33m.\u001b[0m\u001b[0mget_text\u001b[0m\u001b[1;33m(\u001b[0m\u001b[1;33m)\u001b[0m\u001b[1;33m.\u001b[0m\u001b[0mstrip\u001b[0m\u001b[1;33m(\u001b[0m\u001b[1;33m)\u001b[0m\u001b[1;33m\u001b[0m\u001b[1;33m\u001b[0m\u001b[0m\n\u001b[0m\u001b[0;32m     16\u001b[0m \u001b[1;33m\u001b[0m\u001b[0m\n\u001b[0;32m     17\u001b[0m \u001b[1;31m#info.append(company_name)\u001b[0m\u001b[1;33m\u001b[0m\u001b[1;33m\u001b[0m\u001b[1;33m\u001b[0m\u001b[0m\n",
      "\u001b[1;31mIndexError\u001b[0m: list index out of range"
     ]
    }
   ],
   "source": [
    "src = browser.page_source\n",
    "soup = bs(src, 'lxml')\n",
    "exp_section = soup.find('section', {'id': 'experience-section'})\n",
    "\n",
    "exp_section = exp_section.find('ul')\n",
    "li_tags = exp_section.find('div')\n",
    "a_tags = li_tags.find('a')\n",
    "\n",
    "job_title = a_tags.find('h3').get_text().strip()\n",
    "\n",
    "#company_name = a_tags.find_all('p')[1].get_text().strip()\n",
    "\n",
    "\n",
    "joining_date = a_tags.find_all('h4')[0].find_all('span')[1].get_text().strip()\n",
    "exp = a_tags.find_all('h4')[1].find_all('span')[1].get_text().strip()\n",
    "\n",
    "#info.append(company_name)\n",
    "info.append(job_title)\n",
    "info.append(joining_date)\n",
    "info.append(exp)\n"
   ]
  },
  {
   "cell_type": "code",
   "execution_count": 48,
   "metadata": {},
   "outputs": [
    {
     "data": {
      "text/plain": [
       "<section class=\"pv-profile-section experience-section ember-view\" id=\"experience-section\"><header class=\"pv-profile-section__card-header\">\n",
       "<h2 class=\"pv-profile-section__card-heading\">\n",
       "    Experiencia\n",
       "  </h2>\n",
       "<!-- --></header>\n",
       "<ul class=\"pv-profile-section__section-info section-info pv-profile-section__section-info--has-no-more\">\n",
       "<li class=\"pv-entity__position-group-pager pv-profile-section__list-item ember-view\" id=\"ember151\"> <section class=\"pv-profile-section__card-item-v2 pv-profile-section pv-position-entity ember-view\" id=\"ember153\"> <div class=\"display-flex justify-space-between full-width\">\n",
       "<a class=\"full-width ember-view\" data-control-name=\"background_details_company\" href=\"/company/diners-club-peru/\" id=\"ember154\"> <div class=\"pv-entity__company-details\">\n",
       "<div class=\"pv-entity__logo company-logo\">\n",
       "<img alt=\"Diners Club Perú\" class=\"pv-entity__logo-img pv-entity__logo-img EntityPhoto-square-5 lazy-image ember-view\" id=\"ember156\"/>\n",
       "</div>\n",
       "<div class=\"pv-entity__company-summary-info\">\n",
       "<h3 class=\"t-16 t-black t-bold\">\n",
       "<span class=\"visually-hidden\">Nombre de la empresa</span>\n",
       "<span>Diners Club Perú</span>\n",
       "</h3>\n",
       "<h4 class=\"t-14 t-black t-normal\">\n",
       "<span class=\"visually-hidden\">Duración total</span>\n",
       "<span>3 años</span>\n",
       "</h4>\n",
       "</div>\n",
       "</div>\n",
       "</a>\n",
       "<!-- --> </div>\n",
       "<ul class=\"pv-entity__position-group mt2\">\n",
       "<li class=\"pv-entity__position-group-role-item\">\n",
       "<div class=\"ember-view\" id=\"ember158\"><div class=\"pv-entity__role-details\">\n",
       "<span class=\"pv-entity__timeline-node\"></span>\n",
       "<div class=\"display-flex justify-space-between full-width\">\n",
       "<div class=\"pv-entity__role-container\">\n",
       "<div class=\"pv-entity__role-details-container pv-entity__role-details-container--timeline pv-entity__role-details-container--bottom-margin\">\n",
       "<div class=\"pv-entity__summary-info-v2 pv-entity__summary-info--background-section pv-entity__summary-info-margin-top\">\n",
       "<h3 class=\"t-14 t-black t-bold\">\n",
       "<span class=\"visually-hidden\">Cargo</span>\n",
       "<span>Gerente de Business Intelligence y Revenue Assurance</span>\n",
       "</h3>\n",
       "<!-- --> <div class=\"display-flex\">\n",
       "<h4 class=\"pv-entity__date-range t-14 t-black--light t-normal\">\n",
       "<span class=\"visually-hidden\">Fechas de empleo</span>\n",
       "<span>mar. de 2019 – actualidad</span>\n",
       "</h4>\n",
       "<h4 class=\"t-14 t-black--light t-normal\">\n",
       "<span class=\"visually-hidden\">Duración del empleo</span>\n",
       "<span class=\"pv-entity__bullet-item-v2\">11 meses</span>\n",
       "</h4>\n",
       "</div>\n",
       "<!-- --> </div>\n",
       "<!-- --> </div>\n",
       "</div>\n",
       "<!-- --> </div>\n",
       "</div>\n",
       "</div>\n",
       "</li>\n",
       "<li class=\"pv-entity__position-group-role-item\">\n",
       "<div class=\"ember-view\" id=\"ember160\"><div class=\"pv-entity__role-details\">\n",
       "<span class=\"pv-entity__timeline-node\"></span>\n",
       "<div class=\"display-flex justify-space-between full-width\">\n",
       "<div class=\"pv-entity__role-container\">\n",
       "<div class=\"pv-entity__role-details-container\">\n",
       "<div class=\"pv-entity__summary-info-v2 pv-entity__summary-info--background-section pv-entity__summary-info-margin-top\">\n",
       "<h3 class=\"t-14 t-black t-bold\">\n",
       "<span class=\"visually-hidden\">Cargo</span>\n",
       "<span>Subgerente de Revenue Assurance y Planeamiento Comercial</span>\n",
       "</h3>\n",
       "<!-- --> <div class=\"display-flex\">\n",
       "<h4 class=\"pv-entity__date-range t-14 t-black--light t-normal\">\n",
       "<span class=\"visually-hidden\">Fechas de empleo</span>\n",
       "<span>feb. de 2017 – actualidad</span>\n",
       "</h4>\n",
       "<h4 class=\"t-14 t-black--light t-normal\">\n",
       "<span class=\"visually-hidden\">Duración del empleo</span>\n",
       "<span class=\"pv-entity__bullet-item-v2\">3 años</span>\n",
       "</h4>\n",
       "</div>\n",
       "<!-- --> </div>\n",
       "<!-- --> </div>\n",
       "</div>\n",
       "<!-- --> </div>\n",
       "</div>\n",
       "</div>\n",
       "</li>\n",
       "</ul>\n",
       "<!-- --></section>\n",
       "</li><li class=\"pv-entity__position-group-pager pv-profile-section__list-item ember-view\" id=\"ember162\"> <section class=\"pv-profile-section__card-item-v2 pv-profile-section pv-position-entity ember-view\" id=\"738685747\"> <div class=\"display-flex justify-space-between full-width\">\n",
       "<div class=\"display-flex flex-column full-width\">\n",
       "<a class=\"full-width ember-view\" data-control-name=\"background_details_company\" href=\"/company/ey-data-analytics/\" id=\"ember165\"> <div class=\"pv-entity__logo company-logo\">\n",
       "<img alt=\"EY Analytics (Asia-Pacific)\" class=\"pv-entity__logo-img pv-entity__logo-img EntityPhoto-square-5 lazy-image loaded ember-view\" id=\"ember167\" src=\"https://media-exp2.licdn.com/dms/image/C560BAQFwXJb74Y4UPw/company-logo_100_100/0?e=1586995200&amp;v=beta&amp;t=WGfsAwcWN9qmHFln2VmblZz3hOTP5QIVe_PNZur9l2Q\"/>\n",
       "</div>\n",
       "<div class=\"pv-entity__summary-info pv-entity__summary-info--background-section\">\n",
       "<h3 class=\"t-16 t-black t-bold\">Consultora Senior FSO</h3>\n",
       "<p class=\"visually-hidden\">Nombre de la empresa</p>\n",
       "<p class=\"pv-entity__secondary-title t-14 t-black t-normal\">EY Analytics (Asia-Pacific)</p>\n",
       "<!-- -->\n",
       "<div class=\"display-flex\">\n",
       "<h4 class=\"pv-entity__date-range t-14 t-black--light t-normal\">\n",
       "<span class=\"visually-hidden\">Fechas de empleo</span>\n",
       "<span>sept. de 2014 – feb. de 2017</span>\n",
       "</h4>\n",
       "<h4 class=\"t-14 t-black--light t-normal\">\n",
       "<span class=\"visually-hidden\">Duración del empleo</span>\n",
       "<span class=\"pv-entity__bullet-item-v2\">2 años y 6 meses</span>\n",
       "</h4>\n",
       "</div>\n",
       "<h4 class=\"pv-entity__location t-14 t-black--light t-normal block\">\n",
       "<span class=\"visually-hidden\">Ubicación</span>\n",
       "<span>Perú</span>\n",
       "</h4>\n",
       "</div>\n",
       "</a>\n",
       "<!-- --> </div>\n",
       "<!-- --> </div>\n",
       "</section>\n",
       "</li><li class=\"pv-entity__position-group-pager pv-profile-section__list-item ember-view\" id=\"ember170\"> <section class=\"pv-profile-section__card-item-v2 pv-profile-section pv-position-entity ember-view\" id=\"516231795\"> <div class=\"display-flex justify-space-between full-width\">\n",
       "<div class=\"display-flex flex-column full-width\">\n",
       "<a class=\"full-width ember-view\" data-control-name=\"background_details_company\" href=\"/company/tdx-indigo/\" id=\"ember173\"> <div class=\"pv-entity__logo company-logo\">\n",
       "<img alt=\"TDX indigo\" class=\"pv-entity__logo-img pv-entity__logo-img EntityPhoto-square-5 lazy-image loaded ember-view\" id=\"ember175\" src=\"https://media-exp2.licdn.com/dms/image/C560BAQG-CPdsGjZDGQ/company-logo_100_100/0?e=1586995200&amp;v=beta&amp;t=6JyQzFWpUCxLs3_zaUVn6UYGOmrHasFBbI9mCmsuT3g\"/>\n",
       "</div>\n",
       "<div class=\"pv-entity__summary-info pv-entity__summary-info--background-section\">\n",
       "<h3 class=\"t-16 t-black t-bold\">Consultor</h3>\n",
       "<p class=\"visually-hidden\">Nombre de la empresa</p>\n",
       "<p class=\"pv-entity__secondary-title t-14 t-black t-normal\">TDX indigo</p>\n",
       "<!-- -->\n",
       "<div class=\"display-flex\">\n",
       "<h4 class=\"pv-entity__date-range t-14 t-black--light t-normal\">\n",
       "<span class=\"visually-hidden\">Fechas de empleo</span>\n",
       "<span>oct. de 2012 – abr. de 2014</span>\n",
       "</h4>\n",
       "<h4 class=\"t-14 t-black--light t-normal\">\n",
       "<span class=\"visually-hidden\">Duración del empleo</span>\n",
       "<span class=\"pv-entity__bullet-item-v2\">1 año y 7 meses</span>\n",
       "</h4>\n",
       "</div>\n",
       "<h4 class=\"pv-entity__location t-14 t-black--light t-normal block\">\n",
       "<span class=\"visually-hidden\">Ubicación</span>\n",
       "<span>Madrid y alrededores, España</span>\n",
       "</h4>\n",
       "</div>\n",
       "</a>\n",
       "<!-- --> </div>\n",
       "<!-- --> </div>\n",
       "</section>\n",
       "</li><li class=\"pv-entity__position-group-pager pv-profile-section__list-item ember-view\" id=\"ember178\"> <section class=\"pv-profile-section__card-item-v2 pv-profile-section pv-position-entity ember-view\" id=\"549630333\"> <div class=\"display-flex justify-space-between full-width\">\n",
       "<div class=\"display-flex flex-column full-width\">\n",
       "<a class=\"full-width ember-view\" data-control-name=\"background_details_company\" href=\"/company/ernstandyoung/\" id=\"ember181\"> <div class=\"pv-entity__logo company-logo\">\n",
       "<img alt=\"EY\" class=\"pv-entity__logo-img pv-entity__logo-img EntityPhoto-square-5 lazy-image loaded ember-view\" id=\"ember183\" src=\"https://media-exp2.licdn.com/dms/image/C510BAQGpRhkpxp5A9A/company-logo_100_100/0?e=1586995200&amp;v=beta&amp;t=edIB7ZHQrNsaOMAlA3gcncHhIkLJ_Tyu377GhfFhSTE\"/>\n",
       "</div>\n",
       "<div class=\"pv-entity__summary-info pv-entity__summary-info--background-section\">\n",
       "<h3 class=\"t-16 t-black t-bold\">Analista</h3>\n",
       "<p class=\"visually-hidden\">Nombre de la empresa</p>\n",
       "<p class=\"pv-entity__secondary-title t-14 t-black t-normal\">EY</p>\n",
       "<!-- -->\n",
       "<div class=\"display-flex\">\n",
       "<h4 class=\"pv-entity__date-range t-14 t-black--light t-normal\">\n",
       "<span class=\"visually-hidden\">Fechas de empleo</span>\n",
       "<span>sept. de 2011 – jun. de 2012</span>\n",
       "</h4>\n",
       "<h4 class=\"t-14 t-black--light t-normal\">\n",
       "<span class=\"visually-hidden\">Duración del empleo</span>\n",
       "<span class=\"pv-entity__bullet-item-v2\">10 meses</span>\n",
       "</h4>\n",
       "</div>\n",
       "<h4 class=\"pv-entity__location t-14 t-black--light t-normal block\">\n",
       "<span class=\"visually-hidden\">Ubicación</span>\n",
       "<span>Madrid y alrededores, España</span>\n",
       "</h4>\n",
       "</div>\n",
       "</a>\n",
       "<!-- --> </div>\n",
       "<!-- --> </div>\n",
       "</section>\n",
       "</li> </ul>\n",
       "<!-- --></section>"
      ]
     },
     "execution_count": 48,
     "metadata": {},
     "output_type": "execute_result"
    }
   ],
   "source": [
    "exp_section = soup.find('section', {'id': 'experience-section'})\n",
    "exp_section"
   ]
  },
  {
   "cell_type": "markdown",
   "metadata": {},
   "source": [
    "# No tocar\n"
   ]
  },
  {
   "cell_type": "markdown",
   "metadata": {},
   "source": [
    "### Experience "
   ]
  },
  {
   "cell_type": "code",
   "execution_count": 20,
   "metadata": {
    "scrolled": true
   },
   "outputs": [
    {
     "data": {
      "text/plain": [
       "<section class=\"pv-profile-section experience-section ember-view\" id=\"experience-section\"><header class=\"pv-profile-section__card-header\">\n",
       "<h2 class=\"pv-profile-section__card-heading\">\n",
       "    Experience\n",
       "  </h2>\n",
       "<!-- --></header>\n",
       "<ul class=\"pv-profile-section__section-info section-info pv-profile-section__section-info--has-no-more\">\n",
       "<div class=\"pv-entity__position-group-pager pv-profile-section__list-item ember-view\" id=\"ember126\"> <li class=\"pv-profile-section__card-item-v2 pv-profile-section pv-position-entity ember-view\" id=\"1517647779\"> <div class=\"display-flex justify-space-between full-width\">\n",
       "<div class=\"display-flex flex-column full-width\">\n",
       "<a class=\"full-width ember-view\" data-control-name=\"background_details_company\" href=\"/company/1344/\" id=\"ember129\"> <div class=\"pv-entity__logo company-logo\">\n",
       "<img alt=\"Honeywell\" class=\"pv-entity__logo-img pv-entity__logo-img EntityPhoto-square-5 lazy-image loaded ember-view\" id=\"ember131\" src=\"https://media.licdn.com/dms/image/C560BAQFvcIh3UnA5zw/company-logo_400_400/0?e=1577923200&amp;v=beta&amp;t=Md9vGidkpD4D9HVB4mxqI-y_rceccCfrSCeFOxZc1w4\"/>\n",
       "</div>\n",
       "<div class=\"pv-entity__summary-info pv-entity__summary-info--background-section\">\n",
       "<h3 class=\"t-16 t-black t-bold\">FPGA Engineer</h3>\n",
       "<p class=\"visually-hidden\">Company Name</p>\n",
       "<p class=\"pv-entity__secondary-title t-14 t-black t-normal\">Honeywell</p>\n",
       "<!-- -->\n",
       "<div class=\"display-flex\">\n",
       "<h4 class=\"pv-entity__date-range t-14 t-black--light t-normal\">\n",
       "<span class=\"visually-hidden\">Dates Employed</span>\n",
       "<span>Aug 2019 – Present</span>\n",
       "</h4>\n",
       "<h4 class=\"t-14 t-black--light t-normal\">\n",
       "<span class=\"visually-hidden\">Employment Duration</span>\n",
       "<span class=\"pv-entity__bullet-item-v2\">3 mos</span>\n",
       "</h4>\n",
       "</div>\n",
       "<!-- -->\n",
       "</div>\n",
       "</a>\n",
       "<!-- --> </div>\n",
       "<!-- --> </div>\n",
       "</li>\n",
       "</div><div class=\"pv-entity__position-group-pager pv-profile-section__list-item ember-view\" id=\"ember134\"> <li class=\"pv-profile-section__card-item-v2 pv-profile-section pv-position-entity ember-view\" id=\"929137672\"> <div class=\"display-flex justify-space-between full-width\">\n",
       "<div class=\"display-flex flex-column full-width\">\n",
       "<a class=\"full-width ember-view\" data-control-name=\"background_details_company\" href=\"/company/1739031/\" id=\"ember137\"> <div class=\"pv-entity__logo company-logo\">\n",
       "<img alt=\"L&amp;T Technology Services Limited\" class=\"pv-entity__logo-img pv-entity__logo-img EntityPhoto-square-5 lazy-image loaded ember-view\" id=\"ember139\" src=\"https://media.licdn.com/dms/image/C4E0BAQHxZH7KRvUrrg/company-logo_400_400/0?e=1577923200&amp;v=beta&amp;t=HLOQa1f5kqBaw49r4k4NtRBrJaEJX0Mjy2ZKu54oz9M\"/>\n",
       "</div>\n",
       "<div class=\"pv-entity__summary-info pv-entity__summary-info--background-section\">\n",
       "<h3 class=\"t-16 t-black t-bold\">FPGA Design Engineer</h3>\n",
       "<p class=\"visually-hidden\">Company Name</p>\n",
       "<p class=\"pv-entity__secondary-title t-14 t-black t-normal\">L&amp;T Technology Services Limited</p>\n",
       "<!-- -->\n",
       "<div class=\"display-flex\">\n",
       "<h4 class=\"pv-entity__date-range t-14 t-black--light t-normal\">\n",
       "<span class=\"visually-hidden\">Dates Employed</span>\n",
       "<span>Jan 2017 – Jul 2019</span>\n",
       "</h4>\n",
       "<h4 class=\"t-14 t-black--light t-normal\">\n",
       "<span class=\"visually-hidden\">Employment Duration</span>\n",
       "<span class=\"pv-entity__bullet-item-v2\">2 yrs 7 mos</span>\n",
       "</h4>\n",
       "</div>\n",
       "<!-- -->\n",
       "</div>\n",
       "</a>\n",
       "<!-- --> </div>\n",
       "<!-- --> </div>\n",
       "</li>\n",
       "</div> </ul>\n",
       "<!-- --></section>"
      ]
     },
     "execution_count": 20,
     "metadata": {},
     "output_type": "execute_result"
    }
   ],
   "source": [
    "exp_section = soup.find('section', {'id': 'experience-section'})\n",
    "exp_section"
   ]
  },
  {
   "cell_type": "code",
   "execution_count": 21,
   "metadata": {},
   "outputs": [],
   "source": [
    "exp_section = exp_section.find('ul')\n",
    "li_tags = exp_section.find('div')\n",
    "a_tags = li_tags.find('a')"
   ]
  },
  {
   "cell_type": "code",
   "execution_count": 22,
   "metadata": {
    "collapsed": true
   },
   "outputs": [
    {
     "data": {
      "text/plain": [
       "<a class=\"full-width ember-view\" data-control-name=\"background_details_company\" href=\"/company/1344/\" id=\"ember129\"> <div class=\"pv-entity__logo company-logo\">\n",
       "<img alt=\"Honeywell\" class=\"pv-entity__logo-img pv-entity__logo-img EntityPhoto-square-5 lazy-image loaded ember-view\" id=\"ember131\" src=\"https://media.licdn.com/dms/image/C560BAQFvcIh3UnA5zw/company-logo_400_400/0?e=1577923200&amp;v=beta&amp;t=Md9vGidkpD4D9HVB4mxqI-y_rceccCfrSCeFOxZc1w4\"/>\n",
       "</div>\n",
       "<div class=\"pv-entity__summary-info pv-entity__summary-info--background-section\">\n",
       "<h3 class=\"t-16 t-black t-bold\">FPGA Engineer</h3>\n",
       "<p class=\"visually-hidden\">Company Name</p>\n",
       "<p class=\"pv-entity__secondary-title t-14 t-black t-normal\">Honeywell</p>\n",
       "<!-- -->\n",
       "<div class=\"display-flex\">\n",
       "<h4 class=\"pv-entity__date-range t-14 t-black--light t-normal\">\n",
       "<span class=\"visually-hidden\">Dates Employed</span>\n",
       "<span>Aug 2019 – Present</span>\n",
       "</h4>\n",
       "<h4 class=\"t-14 t-black--light t-normal\">\n",
       "<span class=\"visually-hidden\">Employment Duration</span>\n",
       "<span class=\"pv-entity__bullet-item-v2\">3 mos</span>\n",
       "</h4>\n",
       "</div>\n",
       "<!-- -->\n",
       "</div>\n",
       "</a>"
      ]
     },
     "execution_count": 22,
     "metadata": {},
     "output_type": "execute_result"
    }
   ],
   "source": [
    "a_tags"
   ]
  },
  {
   "cell_type": "code",
   "execution_count": 24,
   "metadata": {},
   "outputs": [
    {
     "data": {
      "text/plain": [
       "'FPGA Engineer'"
      ]
     },
     "execution_count": 24,
     "metadata": {},
     "output_type": "execute_result"
    }
   ],
   "source": [
    "job_title = a_tags.find('h3').get_text().strip()\n",
    "job_title"
   ]
  },
  {
   "cell_type": "code",
   "execution_count": 28,
   "metadata": {},
   "outputs": [
    {
     "data": {
      "text/plain": [
       "'Honeywell'"
      ]
     },
     "execution_count": 28,
     "metadata": {},
     "output_type": "execute_result"
    }
   ],
   "source": [
    "company_name = a_tags.find_all('p')[1].get_text().strip()\n",
    "company_name"
   ]
  },
  {
   "cell_type": "code",
   "execution_count": 35,
   "metadata": {},
   "outputs": [
    {
     "data": {
      "text/plain": [
       "'Aug 2019 – Present'"
      ]
     },
     "execution_count": 35,
     "metadata": {},
     "output_type": "execute_result"
    }
   ],
   "source": [
    "joining_date = a_tags.find_all('h4')[0].find_all('span')[1].get_text().strip()\n",
    "joining_date"
   ]
  },
  {
   "cell_type": "code",
   "execution_count": 36,
   "metadata": {},
   "outputs": [
    {
     "data": {
      "text/plain": [
       "'3 mos'"
      ]
     },
     "execution_count": 36,
     "metadata": {},
     "output_type": "execute_result"
    }
   ],
   "source": [
    "exp = a_tags.find_all('h4')[1].find_all('span')[1].get_text().strip()\n",
    "exp"
   ]
  },
  {
   "cell_type": "code",
   "execution_count": 37,
   "metadata": {},
   "outputs": [
    {
     "data": {
      "text/plain": [
       "['https://www.linkedin.com/in/rishabh-singh-61b706114/',\n",
       " 'Rishabh Singh',\n",
       " 'FPGA Engineer at Honeywell',\n",
       " 'Bengaluru, Karnataka, India',\n",
       " '500+ connections']"
      ]
     },
     "execution_count": 37,
     "metadata": {},
     "output_type": "execute_result"
    }
   ],
   "source": [
    "info"
   ]
  },
  {
   "cell_type": "code",
   "execution_count": 38,
   "metadata": {},
   "outputs": [],
   "source": [
    "info.append(company_name)\n",
    "info.append(job_title)\n",
    "info.append(joining_date)\n",
    "info.append(exp)"
   ]
  },
  {
   "cell_type": "code",
   "execution_count": 39,
   "metadata": {},
   "outputs": [
    {
     "data": {
      "text/plain": [
       "['https://www.linkedin.com/in/rishabh-singh-61b706114/',\n",
       " 'Rishabh Singh',\n",
       " 'FPGA Engineer at Honeywell',\n",
       " 'Bengaluru, Karnataka, India',\n",
       " '500+ connections',\n",
       " 'Honeywell',\n",
       " 'FPGA Engineer',\n",
       " 'Aug 2019 – Present',\n",
       " '3 mos']"
      ]
     },
     "execution_count": 39,
     "metadata": {},
     "output_type": "execute_result"
    }
   ],
   "source": [
    "info"
   ]
  },
  {
   "cell_type": "markdown",
   "metadata": {},
   "source": [
    "### Education "
   ]
  },
  {
   "cell_type": "code",
   "execution_count": 41,
   "metadata": {},
   "outputs": [
    {
     "data": {
      "text/plain": [
       "<ul class=\"pv-profile-section__section-info section-info pv-profile-section__section-info--has-no-more ember-view\" id=\"ember143\"><li class=\"pv-profile-section__sortable-item pv-profile-section__section-info-item relative pv-profile-section__sortable-item--v2 pv-profile-section__list-item sortable-item ember-view\" id=\"ember145\"> <div class=\"pv-profile-section__sortable-card-item pv-education-entity pv-profile-section__card-item ember-view\" id=\"356637700\"><div class=\"display-flex justify-space-between full-width\">\n",
       "<div class=\"display-flex flex-column full-width\">\n",
       "<a class=\"ember-view\" data-control-name=\"background_details_school\" href=\"/school/223389/?legacySchoolId=223389\" id=\"ember147\"> <div class=\"pv-entity__logo\">\n",
       "<img alt=\"Technocrats Institute of Technology (Excellence), Anand Nagar, PB No. 24, Post Piplani, BHEL, Bhopal - 462021\" class=\"pv-entity__logo-img pv-entity__logo-img EntityPhoto-square-4 lazy-image ghost-school loaded ember-view\" id=\"ember149\" src=\"data:image/gif;base64,R0lGODlhAQABAIAAAAAAAP///yH5BAEAAAAALAAAAAABAAEAAAIBRAA7\"/>\n",
       "</div>\n",
       "<div class=\"pv-entity__summary-info pv-entity__summary-info--background-section\">\n",
       "<div class=\"pv-entity__degree-info\">\n",
       "<h3 class=\"pv-entity__school-name t-16 t-black t-bold\">Technocrats Institute of Technology (Excellence), Anand Nagar, PB No. 24, Post Piplani, BHEL, Bhopal - 462021</h3>\n",
       "<p class=\"pv-entity__secondary-title pv-entity__degree-name t-14 t-black t-normal\">\n",
       "<span class=\"visually-hidden\">Degree Name</span>\n",
       "<span class=\"pv-entity__comma-item\">Bachelor of Engineering (B.E.)</span>\n",
       "</p>\n",
       "<p class=\"pv-entity__secondary-title pv-entity__fos t-14 t-black t-normal\">\n",
       "<span class=\"visually-hidden\">Field Of Study</span>\n",
       "<span class=\"pv-entity__comma-item\">Electrical, Electronics and Communications Engineering</span>\n",
       "</p>\n",
       "<p class=\"pv-entity__secondary-title pv-entity__grade t-14 t-black t-normal\">\n",
       "<span class=\"visually-hidden\">Grade</span>\n",
       "<span class=\"pv-entity__comma-item\">FIRST</span>\n",
       "</p>\n",
       "</div>\n",
       "<p class=\"pv-entity__dates t-14 t-black--light t-normal\">\n",
       "<span class=\"visually-hidden\">Dates attended or expected graduation</span>\n",
       "<span>\n",
       "<time>2012</time> – <time>2016</time>\n",
       "</span>\n",
       "</p>\n",
       "<!-- --></div>\n",
       "</a>\n",
       "<!-- --> </div>\n",
       "<!-- --></div>\n",
       "</div>\n",
       "</li><li class=\"pv-profile-section__sortable-item pv-profile-section__section-info-item relative pv-profile-section__sortable-item--v2 pv-profile-section__list-item sortable-item ember-view\" id=\"ember151\"> <div class=\"pv-profile-section__sortable-card-item pv-education-entity pv-profile-section__card-item ember-view\" id=\"373985416\"><div class=\"display-flex justify-space-between full-width\">\n",
       "<div class=\"display-flex flex-column full-width\">\n",
       "<a class=\"ember-view\" data-control-name=\"background_details_school\" href=\"/search/results/index/?keywords=S.H.S.B.B\" id=\"ember153\"> <div class=\"pv-entity__logo\">\n",
       "<img alt=\"S.H.S.B.B\" class=\"pv-entity__logo-img pv-entity__logo-img EntityPhoto-square-4 lazy-image ghost-school loaded ember-view\" id=\"ember155\" src=\"data:image/gif;base64,R0lGODlhAQABAIAAAAAAAP///yH5BAEAAAAALAAAAAABAAEAAAIBRAA7\"/>\n",
       "</div>\n",
       "<div class=\"pv-entity__summary-info pv-entity__summary-info--background-section\">\n",
       "<div class=\"pv-entity__degree-info\">\n",
       "<h3 class=\"pv-entity__school-name t-16 t-black t-bold\">S.H.S.B.B</h3>\n",
       "<!-- --> <p class=\"pv-entity__secondary-title pv-entity__fos t-14 t-black t-normal\">\n",
       "<span class=\"visually-hidden\">Field Of Study</span>\n",
       "<span class=\"pv-entity__comma-item\">PCM</span>\n",
       "</p>\n",
       "<!-- --> </div>\n",
       "<!-- -->\n",
       "<!-- --></div>\n",
       "</a>\n",
       "<!-- --> </div>\n",
       "<!-- --></div>\n",
       "</div>\n",
       "</li>\n",
       "</ul>"
      ]
     },
     "execution_count": 41,
     "metadata": {},
     "output_type": "execute_result"
    }
   ],
   "source": [
    "edu_section = soup.find('section', {'id': 'education-section'}).find('ul')\n",
    "edu_section"
   ]
  },
  {
   "cell_type": "code",
   "execution_count": 44,
   "metadata": {},
   "outputs": [
    {
     "data": {
      "text/plain": [
       "'Technocrats Institute of Technology (Excellence), Anand Nagar, PB No. 24, Post Piplani, BHEL, Bhopal - 462021'"
      ]
     },
     "execution_count": 44,
     "metadata": {},
     "output_type": "execute_result"
    }
   ],
   "source": [
    "college_name = edu_section.find('h3').get_text().strip()\n",
    "college_name"
   ]
  },
  {
   "cell_type": "code",
   "execution_count": 49,
   "metadata": {},
   "outputs": [
    {
     "data": {
      "text/plain": [
       "'Bachelor of Engineering (B.E.)'"
      ]
     },
     "execution_count": 49,
     "metadata": {},
     "output_type": "execute_result"
    }
   ],
   "source": [
    "degree_name = edu_section.find('p', {'class': 'pv-entity__secondary-title pv-entity__degree-name t-14 t-black t-normal'}).find_all('span')[1].get_text().strip()\n",
    "degree_name"
   ]
  },
  {
   "cell_type": "code",
   "execution_count": 50,
   "metadata": {},
   "outputs": [
    {
     "data": {
      "text/plain": [
       "'Electrical, Electronics and Communications Engineering'"
      ]
     },
     "execution_count": 50,
     "metadata": {},
     "output_type": "execute_result"
    }
   ],
   "source": [
    "stream = edu_section.find('p', {'class': 'pv-entity__secondary-title pv-entity__fos t-14 t-black t-normal'}).find_all('span')[1].get_text().strip()\n",
    "stream"
   ]
  },
  {
   "cell_type": "code",
   "execution_count": 51,
   "metadata": {},
   "outputs": [
    {
     "data": {
      "text/plain": [
       "'2012 – 2016'"
      ]
     },
     "execution_count": 51,
     "metadata": {},
     "output_type": "execute_result"
    }
   ],
   "source": [
    "degree_year = edu_section.find('p', {'class': 'pv-entity__dates t-14 t-black--light t-normal'}).find_all('span')[1].get_text().strip()\n",
    "degree_year"
   ]
  },
  {
   "cell_type": "code",
   "execution_count": 52,
   "metadata": {},
   "outputs": [
    {
     "data": {
      "text/plain": [
       "['https://www.linkedin.com/in/rishabh-singh-61b706114/',\n",
       " 'Rishabh Singh',\n",
       " 'FPGA Engineer at Honeywell',\n",
       " 'Bengaluru, Karnataka, India',\n",
       " '500+ connections',\n",
       " 'Honeywell',\n",
       " 'FPGA Engineer',\n",
       " 'Aug 2019 – Present',\n",
       " '3 mos']"
      ]
     },
     "execution_count": 52,
     "metadata": {},
     "output_type": "execute_result"
    }
   ],
   "source": [
    "info"
   ]
  },
  {
   "cell_type": "code",
   "execution_count": 53,
   "metadata": {},
   "outputs": [],
   "source": [
    "info.append(college_name)\n",
    "info.append(degree_name)\n",
    "info.append(stream)\n",
    "info.append(degree_year)"
   ]
  },
  {
   "cell_type": "code",
   "execution_count": 54,
   "metadata": {},
   "outputs": [
    {
     "data": {
      "text/plain": [
       "['https://www.linkedin.com/in/rishabh-singh-61b706114/',\n",
       " 'Rishabh Singh',\n",
       " 'FPGA Engineer at Honeywell',\n",
       " 'Bengaluru, Karnataka, India',\n",
       " '500+ connections',\n",
       " 'Honeywell',\n",
       " 'FPGA Engineer',\n",
       " 'Aug 2019 – Present',\n",
       " '3 mos',\n",
       " 'Technocrats Institute of Technology (Excellence), Anand Nagar, PB No. 24, Post Piplani, BHEL, Bhopal - 462021',\n",
       " 'Bachelor of Engineering (B.E.)',\n",
       " 'Electrical, Electronics and Communications Engineering',\n",
       " '2012 – 2016']"
      ]
     },
     "execution_count": 54,
     "metadata": {},
     "output_type": "execute_result"
    }
   ],
   "source": [
    "info"
   ]
  },
  {
   "cell_type": "code",
   "execution_count": null,
   "metadata": {},
   "outputs": [],
   "source": []
  },
  {
   "cell_type": "code",
   "execution_count": null,
   "metadata": {},
   "outputs": [],
   "source": []
  },
  {
   "cell_type": "code",
   "execution_count": null,
   "metadata": {},
   "outputs": [],
   "source": []
  },
  {
   "cell_type": "code",
   "execution_count": null,
   "metadata": {},
   "outputs": [],
   "source": []
  },
  {
   "cell_type": "code",
   "execution_count": null,
   "metadata": {},
   "outputs": [],
   "source": []
  },
  {
   "cell_type": "code",
   "execution_count": null,
   "metadata": {},
   "outputs": [],
   "source": []
  },
  {
   "cell_type": "code",
   "execution_count": null,
   "metadata": {},
   "outputs": [],
   "source": []
  },
  {
   "cell_type": "code",
   "execution_count": null,
   "metadata": {},
   "outputs": [],
   "source": []
  },
  {
   "cell_type": "code",
   "execution_count": null,
   "metadata": {},
   "outputs": [],
   "source": []
  },
  {
   "cell_type": "code",
   "execution_count": null,
   "metadata": {},
   "outputs": [],
   "source": []
  },
  {
   "cell_type": "code",
   "execution_count": null,
   "metadata": {},
   "outputs": [],
   "source": []
  },
  {
   "cell_type": "code",
   "execution_count": null,
   "metadata": {},
   "outputs": [],
   "source": []
  },
  {
   "cell_type": "code",
   "execution_count": null,
   "metadata": {},
   "outputs": [],
   "source": []
  },
  {
   "cell_type": "code",
   "execution_count": null,
   "metadata": {},
   "outputs": [],
   "source": []
  },
  {
   "cell_type": "code",
   "execution_count": null,
   "metadata": {},
   "outputs": [],
   "source": []
  },
  {
   "cell_type": "code",
   "execution_count": null,
   "metadata": {},
   "outputs": [],
   "source": []
  }
 ],
 "metadata": {
  "kernelspec": {
   "display_name": "Python 3",
   "language": "python",
   "name": "python3"
  },
  "language_info": {
   "codemirror_mode": {
    "name": "ipython",
    "version": 3
   },
   "file_extension": ".py",
   "mimetype": "text/x-python",
   "name": "python",
   "nbconvert_exporter": "python",
   "pygments_lexer": "ipython3",
   "version": "3.7.4"
  }
 },
 "nbformat": 4,
 "nbformat_minor": 2
}
