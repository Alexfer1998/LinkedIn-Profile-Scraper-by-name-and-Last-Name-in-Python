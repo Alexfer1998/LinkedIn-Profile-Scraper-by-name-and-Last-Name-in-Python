{
 "cells": [
  {
   "cell_type": "markdown",
   "metadata": {},
   "source": [
    "# LINKEDIN SCRAPPER BY NAME AND LASTNAME"
   ]
  },
  {
   "cell_type": "code",
   "execution_count": 10,
   "metadata": {},
   "outputs": [],
   "source": [
    "import requests, time, random\n",
    "from bs4 import BeautifulSoup as bs\n",
    "from selenium import webdriver"
   ]
  },
  {
   "cell_type": "code",
   "execution_count": 67,
   "metadata": {},
   "outputs": [],
   "source": [
    "import pandas as pd"
   ]
  },
  {
   "cell_type": "code",
   "execution_count": 2,
   "metadata": {},
   "outputs": [],
   "source": [
    "#iniciar sesion\n",
    "\n",
    "browser = webdriver.Chrome('driver/chromedriver.exe')\n",
    "browser.get('https://www.linkedin.com/uas/login')\n",
    "file = open('config.txt')\n",
    "lines = file.readlines()\n",
    "username = lines[0]\n",
    "password = lines[1]\n",
    "\n",
    "\n",
    "elementID = browser.find_element_by_id('username')\n",
    "elementID.send_keys(username)\n",
    "\n",
    "elementID = browser.find_element_by_id('password')\n",
    "elementID.send_keys(password)\n",
    "\n",
    "elementID.submit()"
   ]
  },
  {
   "cell_type": "code",
   "execution_count": 124,
   "metadata": {},
   "outputs": [],
   "source": [
    "buscar = 'maria alonso'\n",
    "name = buscar.split()"
   ]
  },
  {
   "cell_type": "code",
   "execution_count": null,
   "metadata": {},
   "outputs": [],
   "source": []
  },
  {
   "cell_type": "code",
   "execution_count": 125,
   "metadata": {},
   "outputs": [],
   "source": [
    "def slideBar():\n",
    "    SCROLL_PAUSE_TIME = 5\n",
    "\n",
    "    # Get scroll height\n",
    "    last_height = browser.execute_script(\"return document.body.scrollHeight\")\n",
    "\n",
    "    for i in range(10):\n",
    "        # Scroll down to bottom\n",
    "        browser.execute_script(\"window.scrollTo(0, document.body.scrollHeight);\")\n",
    "\n",
    "        # Wait to load page\n",
    "        time.sleep(SCROLL_PAUSE_TIME)\n",
    "\n",
    "        # Calculate new scroll height and compare with last scroll height\n",
    "        new_height = browser.execute_script(\"return document.body.scrollHeight\")\n",
    "        if new_height == last_height:\n",
    "            break\n",
    "        last_height = new_height"
   ]
  },
  {
   "cell_type": "code",
   "execution_count": 126,
   "metadata": {},
   "outputs": [],
   "source": [
    "linkRef = list()\n",
    "nombre = list()\n",
    "trabajo =list()\n",
    "pais = list()\n",
    "\n",
    "data =pd.DataFrame(columns=['nombre' ,'trabajo','pais','link'])\n",
    "\n",
    "cont = 0\n",
    "\n",
    "# Exact Link Text\n",
    "browser.get('https://www.linkedin.com/mwlite/search/results/all?keywords='+ name[0]+'+'+name[1]+'&origin=TYPEAHEAD_ESCAPE_HATCH')\n",
    "\n",
    "slideBar()\n",
    "#soup\n",
    "src = browser.page_source\n",
    "soup = bs(src, 'lxml')\n",
    "name_div = soup.find('ul', {'class': 'search-results'})\n",
    "div = name_div.find_all('div',{'class': 'flex-entity-lockup'})\n",
    "\n",
    "for div2 in div:\n",
    "    dataNombre = div2.find_all('h3',{'class': 'large-semibold name'})\n",
    "    for i in dataNombre:\n",
    "        nombre.append(i.text)\n",
    "    \n",
    "    dataTrabajo = div2.find_all('div',{'class': 'medium-dark truncate-line headline'})\n",
    "    for i in dataTrabajo:\n",
    "        trabajo.append(i.text)\n",
    "        \n",
    "    dataPais = div2.find_all('dd',{'class': 'location small'})\n",
    "    for i in dataPais:\n",
    "        pais.append(i.text)\n",
    "    \n",
    "    dataLink = div2.find_all('a',{ 'class': 'profile-path primary-details'} , href = True)\n",
    "    for a in dataLink:\n",
    "        linkRef.append(a['href'])  \n",
    "    \n",
    "    data.loc[cont] = nombre[cont], trabajo[cont], pais[cont], linkRef[cont]\n",
    "    cont += 1\n",
    "        "
   ]
  },
  {
   "cell_type": "code",
   "execution_count": 127,
   "metadata": {},
   "outputs": [
    {
     "data": {
      "text/html": [
       "<div>\n",
       "<style scoped>\n",
       "    .dataframe tbody tr th:only-of-type {\n",
       "        vertical-align: middle;\n",
       "    }\n",
       "\n",
       "    .dataframe tbody tr th {\n",
       "        vertical-align: top;\n",
       "    }\n",
       "\n",
       "    .dataframe thead th {\n",
       "        text-align: right;\n",
       "    }\n",
       "</style>\n",
       "<table border=\"1\" class=\"dataframe\">\n",
       "  <thead>\n",
       "    <tr style=\"text-align: right;\">\n",
       "      <th></th>\n",
       "      <th>nombre</th>\n",
       "      <th>trabajo</th>\n",
       "      <th>pais</th>\n",
       "      <th>link</th>\n",
       "    </tr>\n",
       "  </thead>\n",
       "  <tbody>\n",
       "    <tr>\n",
       "      <td>0</td>\n",
       "      <td>Maria Alonso3er</td>\n",
       "      <td>Gerente de Business Intelligence y Revenue Ass...</td>\n",
       "      <td>Perú</td>\n",
       "      <td>/in/maria-alonso-3977b691</td>\n",
       "    </tr>\n",
       "    <tr>\n",
       "      <td>1</td>\n",
       "      <td>Maria Alonso</td>\n",
       "      <td>Senior Staff Recruiter\\nmaria.alonso@gmail.com</td>\n",
       "      <td>Pleasanton, California, Estados Unidos</td>\n",
       "      <td>/in/mariaalonso</td>\n",
       "    </tr>\n",
       "    <tr>\n",
       "      <td>2</td>\n",
       "      <td>Maria Alonso</td>\n",
       "      <td>President &amp; CEO at United Way of Miami-Dade</td>\n",
       "      <td>Miami, Florida, Estados Unidos</td>\n",
       "      <td>/in/maria-alonso-55619baa</td>\n",
       "    </tr>\n",
       "    <tr>\n",
       "      <td>3</td>\n",
       "      <td>Maria Jimena Alonso3er</td>\n",
       "      <td>Gerente de Segmento Joven en Banco Santander</td>\n",
       "      <td>Argentina</td>\n",
       "      <td>/in/maria-jimena-alonso-737634174</td>\n",
       "    </tr>\n",
       "    <tr>\n",
       "      <td>4</td>\n",
       "      <td>María Juliana Gómez Alonso3er</td>\n",
       "      <td>CEO/ Gerente de Riegos / Analytics</td>\n",
       "      <td>Colombia</td>\n",
       "      <td>/in/maría-juliana-gómez-alonso-9219ba67</td>\n",
       "    </tr>\n",
       "    <tr>\n",
       "      <td>...</td>\n",
       "      <td>...</td>\n",
       "      <td>...</td>\n",
       "      <td>...</td>\n",
       "      <td>...</td>\n",
       "    </tr>\n",
       "    <tr>\n",
       "      <td>105</td>\n",
       "      <td>maria isabel alonso chicote</td>\n",
       "      <td>abogado en maria isabel alonso</td>\n",
       "      <td>Barcelona y alrededores</td>\n",
       "      <td>/in/maria-isabel-alonso-chicote-74874b26</td>\n",
       "    </tr>\n",
       "    <tr>\n",
       "      <td>106</td>\n",
       "      <td>María Renée Azancot Alonso3er</td>\n",
       "      <td>Abogado con inglés avanzado y Diplomado en Est...</td>\n",
       "      <td>Chile</td>\n",
       "      <td>/in/maría-renée-azancot-alonso-890832a9</td>\n",
       "    </tr>\n",
       "    <tr>\n",
       "      <td>107</td>\n",
       "      <td>Maria Concepción Gordo Alonso3er</td>\n",
       "      <td>Profesora en la Universidad Autónoma de Madrid...</td>\n",
       "      <td>Madrid y alrededores</td>\n",
       "      <td>/in/mariaconcepcióngordoalonso</td>\n",
       "    </tr>\n",
       "    <tr>\n",
       "      <td>108</td>\n",
       "      <td>Maria Rosa Alonso Francesqui3er</td>\n",
       "      <td>Gerente</td>\n",
       "      <td>Perú</td>\n",
       "      <td>/in/maria-rosa-alonso-francesqui-25321195</td>\n",
       "    </tr>\n",
       "    <tr>\n",
       "      <td>109</td>\n",
       "      <td>Maria Alonso Luque3er</td>\n",
       "      <td>Lic. Recursos Humanos y Bachillerato en Contab...</td>\n",
       "      <td>Costa Rica</td>\n",
       "      <td>/in/maria-alonso-luque-00b00351</td>\n",
       "    </tr>\n",
       "  </tbody>\n",
       "</table>\n",
       "<p>110 rows × 4 columns</p>\n",
       "</div>"
      ],
      "text/plain": [
       "                               nombre  \\\n",
       "0                     Maria Alonso3er   \n",
       "1                        Maria Alonso   \n",
       "2                        Maria Alonso   \n",
       "3              Maria Jimena Alonso3er   \n",
       "4       María Juliana Gómez Alonso3er   \n",
       "..                                ...   \n",
       "105       maria isabel alonso chicote   \n",
       "106     María Renée Azancot Alonso3er   \n",
       "107  Maria Concepción Gordo Alonso3er   \n",
       "108   Maria Rosa Alonso Francesqui3er   \n",
       "109             Maria Alonso Luque3er   \n",
       "\n",
       "                                               trabajo  \\\n",
       "0    Gerente de Business Intelligence y Revenue Ass...   \n",
       "1       Senior Staff Recruiter\\nmaria.alonso@gmail.com   \n",
       "2          President & CEO at United Way of Miami-Dade   \n",
       "3         Gerente de Segmento Joven en Banco Santander   \n",
       "4                  CEO/ Gerente de Riegos / Analytics    \n",
       "..                                                 ...   \n",
       "105                     abogado en maria isabel alonso   \n",
       "106  Abogado con inglés avanzado y Diplomado en Est...   \n",
       "107  Profesora en la Universidad Autónoma de Madrid...   \n",
       "108                                            Gerente   \n",
       "109  Lic. Recursos Humanos y Bachillerato en Contab...   \n",
       "\n",
       "                                       pais  \\\n",
       "0                                      Perú   \n",
       "1    Pleasanton, California, Estados Unidos   \n",
       "2            Miami, Florida, Estados Unidos   \n",
       "3                                 Argentina   \n",
       "4                                  Colombia   \n",
       "..                                      ...   \n",
       "105                 Barcelona y alrededores   \n",
       "106                                   Chile   \n",
       "107                    Madrid y alrededores   \n",
       "108                                    Perú   \n",
       "109                              Costa Rica   \n",
       "\n",
       "                                          link  \n",
       "0                    /in/maria-alonso-3977b691  \n",
       "1                              /in/mariaalonso  \n",
       "2                    /in/maria-alonso-55619baa  \n",
       "3            /in/maria-jimena-alonso-737634174  \n",
       "4      /in/maría-juliana-gómez-alonso-9219ba67  \n",
       "..                                         ...  \n",
       "105   /in/maria-isabel-alonso-chicote-74874b26  \n",
       "106    /in/maría-renée-azancot-alonso-890832a9  \n",
       "107             /in/mariaconcepcióngordoalonso  \n",
       "108  /in/maria-rosa-alonso-francesqui-25321195  \n",
       "109            /in/maria-alonso-luque-00b00351  \n",
       "\n",
       "[110 rows x 4 columns]"
      ]
     },
     "execution_count": 127,
     "metadata": {},
     "output_type": "execute_result"
    }
   ],
   "source": [
    "data"
   ]
  },
  {
   "cell_type": "code",
   "execution_count": 109,
   "metadata": {},
   "outputs": [],
   "source": [
    "\n",
    "from selenium import webdriver\n",
    "from selenium.webdriver.common.action_chains import ActionChains"
   ]
  },
  {
   "cell_type": "markdown",
   "metadata": {},
   "source": [
    "# No tocar\n"
   ]
  },
  {
   "cell_type": "markdown",
   "metadata": {},
   "source": [
    "### Experience "
   ]
  },
  {
   "cell_type": "code",
   "execution_count": 20,
   "metadata": {
    "collapsed": true
   },
   "outputs": [
    {
     "data": {
      "text/plain": [
       "<section class=\"pv-profile-section experience-section ember-view\" id=\"experience-section\"><header class=\"pv-profile-section__card-header\">\n",
       "<h2 class=\"pv-profile-section__card-heading\">\n",
       "    Experience\n",
       "  </h2>\n",
       "<!-- --></header>\n",
       "<ul class=\"pv-profile-section__section-info section-info pv-profile-section__section-info--has-no-more\">\n",
       "<div class=\"pv-entity__position-group-pager pv-profile-section__list-item ember-view\" id=\"ember126\"> <li class=\"pv-profile-section__card-item-v2 pv-profile-section pv-position-entity ember-view\" id=\"1517647779\"> <div class=\"display-flex justify-space-between full-width\">\n",
       "<div class=\"display-flex flex-column full-width\">\n",
       "<a class=\"full-width ember-view\" data-control-name=\"background_details_company\" href=\"/company/1344/\" id=\"ember129\"> <div class=\"pv-entity__logo company-logo\">\n",
       "<img alt=\"Honeywell\" class=\"pv-entity__logo-img pv-entity__logo-img EntityPhoto-square-5 lazy-image loaded ember-view\" id=\"ember131\" src=\"https://media.licdn.com/dms/image/C560BAQFvcIh3UnA5zw/company-logo_400_400/0?e=1577923200&amp;v=beta&amp;t=Md9vGidkpD4D9HVB4mxqI-y_rceccCfrSCeFOxZc1w4\"/>\n",
       "</div>\n",
       "<div class=\"pv-entity__summary-info pv-entity__summary-info--background-section\">\n",
       "<h3 class=\"t-16 t-black t-bold\">FPGA Engineer</h3>\n",
       "<p class=\"visually-hidden\">Company Name</p>\n",
       "<p class=\"pv-entity__secondary-title t-14 t-black t-normal\">Honeywell</p>\n",
       "<!-- -->\n",
       "<div class=\"display-flex\">\n",
       "<h4 class=\"pv-entity__date-range t-14 t-black--light t-normal\">\n",
       "<span class=\"visually-hidden\">Dates Employed</span>\n",
       "<span>Aug 2019 – Present</span>\n",
       "</h4>\n",
       "<h4 class=\"t-14 t-black--light t-normal\">\n",
       "<span class=\"visually-hidden\">Employment Duration</span>\n",
       "<span class=\"pv-entity__bullet-item-v2\">3 mos</span>\n",
       "</h4>\n",
       "</div>\n",
       "<!-- -->\n",
       "</div>\n",
       "</a>\n",
       "<!-- --> </div>\n",
       "<!-- --> </div>\n",
       "</li>\n",
       "</div><div class=\"pv-entity__position-group-pager pv-profile-section__list-item ember-view\" id=\"ember134\"> <li class=\"pv-profile-section__card-item-v2 pv-profile-section pv-position-entity ember-view\" id=\"929137672\"> <div class=\"display-flex justify-space-between full-width\">\n",
       "<div class=\"display-flex flex-column full-width\">\n",
       "<a class=\"full-width ember-view\" data-control-name=\"background_details_company\" href=\"/company/1739031/\" id=\"ember137\"> <div class=\"pv-entity__logo company-logo\">\n",
       "<img alt=\"L&amp;T Technology Services Limited\" class=\"pv-entity__logo-img pv-entity__logo-img EntityPhoto-square-5 lazy-image loaded ember-view\" id=\"ember139\" src=\"https://media.licdn.com/dms/image/C4E0BAQHxZH7KRvUrrg/company-logo_400_400/0?e=1577923200&amp;v=beta&amp;t=HLOQa1f5kqBaw49r4k4NtRBrJaEJX0Mjy2ZKu54oz9M\"/>\n",
       "</div>\n",
       "<div class=\"pv-entity__summary-info pv-entity__summary-info--background-section\">\n",
       "<h3 class=\"t-16 t-black t-bold\">FPGA Design Engineer</h3>\n",
       "<p class=\"visually-hidden\">Company Name</p>\n",
       "<p class=\"pv-entity__secondary-title t-14 t-black t-normal\">L&amp;T Technology Services Limited</p>\n",
       "<!-- -->\n",
       "<div class=\"display-flex\">\n",
       "<h4 class=\"pv-entity__date-range t-14 t-black--light t-normal\">\n",
       "<span class=\"visually-hidden\">Dates Employed</span>\n",
       "<span>Jan 2017 – Jul 2019</span>\n",
       "</h4>\n",
       "<h4 class=\"t-14 t-black--light t-normal\">\n",
       "<span class=\"visually-hidden\">Employment Duration</span>\n",
       "<span class=\"pv-entity__bullet-item-v2\">2 yrs 7 mos</span>\n",
       "</h4>\n",
       "</div>\n",
       "<!-- -->\n",
       "</div>\n",
       "</a>\n",
       "<!-- --> </div>\n",
       "<!-- --> </div>\n",
       "</li>\n",
       "</div> </ul>\n",
       "<!-- --></section>"
      ]
     },
     "execution_count": 20,
     "metadata": {},
     "output_type": "execute_result"
    }
   ],
   "source": [
    "exp_section = soup.find('section', {'id': 'experience-section'})\n",
    "exp_section"
   ]
  },
  {
   "cell_type": "code",
   "execution_count": 21,
   "metadata": {},
   "outputs": [],
   "source": [
    "exp_section = exp_section.find('ul')\n",
    "li_tags = exp_section.find('div')\n",
    "a_tags = li_tags.find('a')"
   ]
  },
  {
   "cell_type": "code",
   "execution_count": 22,
   "metadata": {
    "collapsed": true
   },
   "outputs": [
    {
     "data": {
      "text/plain": [
       "<a class=\"full-width ember-view\" data-control-name=\"background_details_company\" href=\"/company/1344/\" id=\"ember129\"> <div class=\"pv-entity__logo company-logo\">\n",
       "<img alt=\"Honeywell\" class=\"pv-entity__logo-img pv-entity__logo-img EntityPhoto-square-5 lazy-image loaded ember-view\" id=\"ember131\" src=\"https://media.licdn.com/dms/image/C560BAQFvcIh3UnA5zw/company-logo_400_400/0?e=1577923200&amp;v=beta&amp;t=Md9vGidkpD4D9HVB4mxqI-y_rceccCfrSCeFOxZc1w4\"/>\n",
       "</div>\n",
       "<div class=\"pv-entity__summary-info pv-entity__summary-info--background-section\">\n",
       "<h3 class=\"t-16 t-black t-bold\">FPGA Engineer</h3>\n",
       "<p class=\"visually-hidden\">Company Name</p>\n",
       "<p class=\"pv-entity__secondary-title t-14 t-black t-normal\">Honeywell</p>\n",
       "<!-- -->\n",
       "<div class=\"display-flex\">\n",
       "<h4 class=\"pv-entity__date-range t-14 t-black--light t-normal\">\n",
       "<span class=\"visually-hidden\">Dates Employed</span>\n",
       "<span>Aug 2019 – Present</span>\n",
       "</h4>\n",
       "<h4 class=\"t-14 t-black--light t-normal\">\n",
       "<span class=\"visually-hidden\">Employment Duration</span>\n",
       "<span class=\"pv-entity__bullet-item-v2\">3 mos</span>\n",
       "</h4>\n",
       "</div>\n",
       "<!-- -->\n",
       "</div>\n",
       "</a>"
      ]
     },
     "execution_count": 22,
     "metadata": {},
     "output_type": "execute_result"
    }
   ],
   "source": [
    "a_tags"
   ]
  },
  {
   "cell_type": "code",
   "execution_count": 24,
   "metadata": {},
   "outputs": [
    {
     "data": {
      "text/plain": [
       "'FPGA Engineer'"
      ]
     },
     "execution_count": 24,
     "metadata": {},
     "output_type": "execute_result"
    }
   ],
   "source": [
    "job_title = a_tags.find('h3').get_text().strip()\n",
    "job_title"
   ]
  },
  {
   "cell_type": "code",
   "execution_count": 28,
   "metadata": {},
   "outputs": [
    {
     "data": {
      "text/plain": [
       "'Honeywell'"
      ]
     },
     "execution_count": 28,
     "metadata": {},
     "output_type": "execute_result"
    }
   ],
   "source": [
    "company_name = a_tags.find_all('p')[1].get_text().strip()\n",
    "company_name"
   ]
  },
  {
   "cell_type": "code",
   "execution_count": 35,
   "metadata": {},
   "outputs": [
    {
     "data": {
      "text/plain": [
       "'Aug 2019 – Present'"
      ]
     },
     "execution_count": 35,
     "metadata": {},
     "output_type": "execute_result"
    }
   ],
   "source": [
    "joining_date = a_tags.find_all('h4')[0].find_all('span')[1].get_text().strip()\n",
    "joining_date"
   ]
  },
  {
   "cell_type": "code",
   "execution_count": 36,
   "metadata": {},
   "outputs": [
    {
     "data": {
      "text/plain": [
       "'3 mos'"
      ]
     },
     "execution_count": 36,
     "metadata": {},
     "output_type": "execute_result"
    }
   ],
   "source": [
    "exp = a_tags.find_all('h4')[1].find_all('span')[1].get_text().strip()\n",
    "exp"
   ]
  },
  {
   "cell_type": "code",
   "execution_count": 37,
   "metadata": {},
   "outputs": [
    {
     "data": {
      "text/plain": [
       "['https://www.linkedin.com/in/rishabh-singh-61b706114/',\n",
       " 'Rishabh Singh',\n",
       " 'FPGA Engineer at Honeywell',\n",
       " 'Bengaluru, Karnataka, India',\n",
       " '500+ connections']"
      ]
     },
     "execution_count": 37,
     "metadata": {},
     "output_type": "execute_result"
    }
   ],
   "source": [
    "info"
   ]
  },
  {
   "cell_type": "code",
   "execution_count": 38,
   "metadata": {},
   "outputs": [],
   "source": [
    "info.append(company_name)\n",
    "info.append(job_title)\n",
    "info.append(joining_date)\n",
    "info.append(exp)"
   ]
  },
  {
   "cell_type": "code",
   "execution_count": 39,
   "metadata": {},
   "outputs": [
    {
     "data": {
      "text/plain": [
       "['https://www.linkedin.com/in/rishabh-singh-61b706114/',\n",
       " 'Rishabh Singh',\n",
       " 'FPGA Engineer at Honeywell',\n",
       " 'Bengaluru, Karnataka, India',\n",
       " '500+ connections',\n",
       " 'Honeywell',\n",
       " 'FPGA Engineer',\n",
       " 'Aug 2019 – Present',\n",
       " '3 mos']"
      ]
     },
     "execution_count": 39,
     "metadata": {},
     "output_type": "execute_result"
    }
   ],
   "source": [
    "info"
   ]
  },
  {
   "cell_type": "markdown",
   "metadata": {},
   "source": [
    "### Education "
   ]
  },
  {
   "cell_type": "code",
   "execution_count": 41,
   "metadata": {},
   "outputs": [
    {
     "data": {
      "text/plain": [
       "<ul class=\"pv-profile-section__section-info section-info pv-profile-section__section-info--has-no-more ember-view\" id=\"ember143\"><li class=\"pv-profile-section__sortable-item pv-profile-section__section-info-item relative pv-profile-section__sortable-item--v2 pv-profile-section__list-item sortable-item ember-view\" id=\"ember145\"> <div class=\"pv-profile-section__sortable-card-item pv-education-entity pv-profile-section__card-item ember-view\" id=\"356637700\"><div class=\"display-flex justify-space-between full-width\">\n",
       "<div class=\"display-flex flex-column full-width\">\n",
       "<a class=\"ember-view\" data-control-name=\"background_details_school\" href=\"/school/223389/?legacySchoolId=223389\" id=\"ember147\"> <div class=\"pv-entity__logo\">\n",
       "<img alt=\"Technocrats Institute of Technology (Excellence), Anand Nagar, PB No. 24, Post Piplani, BHEL, Bhopal - 462021\" class=\"pv-entity__logo-img pv-entity__logo-img EntityPhoto-square-4 lazy-image ghost-school loaded ember-view\" id=\"ember149\" src=\"data:image/gif;base64,R0lGODlhAQABAIAAAAAAAP///yH5BAEAAAAALAAAAAABAAEAAAIBRAA7\"/>\n",
       "</div>\n",
       "<div class=\"pv-entity__summary-info pv-entity__summary-info--background-section\">\n",
       "<div class=\"pv-entity__degree-info\">\n",
       "<h3 class=\"pv-entity__school-name t-16 t-black t-bold\">Technocrats Institute of Technology (Excellence), Anand Nagar, PB No. 24, Post Piplani, BHEL, Bhopal - 462021</h3>\n",
       "<p class=\"pv-entity__secondary-title pv-entity__degree-name t-14 t-black t-normal\">\n",
       "<span class=\"visually-hidden\">Degree Name</span>\n",
       "<span class=\"pv-entity__comma-item\">Bachelor of Engineering (B.E.)</span>\n",
       "</p>\n",
       "<p class=\"pv-entity__secondary-title pv-entity__fos t-14 t-black t-normal\">\n",
       "<span class=\"visually-hidden\">Field Of Study</span>\n",
       "<span class=\"pv-entity__comma-item\">Electrical, Electronics and Communications Engineering</span>\n",
       "</p>\n",
       "<p class=\"pv-entity__secondary-title pv-entity__grade t-14 t-black t-normal\">\n",
       "<span class=\"visually-hidden\">Grade</span>\n",
       "<span class=\"pv-entity__comma-item\">FIRST</span>\n",
       "</p>\n",
       "</div>\n",
       "<p class=\"pv-entity__dates t-14 t-black--light t-normal\">\n",
       "<span class=\"visually-hidden\">Dates attended or expected graduation</span>\n",
       "<span>\n",
       "<time>2012</time> – <time>2016</time>\n",
       "</span>\n",
       "</p>\n",
       "<!-- --></div>\n",
       "</a>\n",
       "<!-- --> </div>\n",
       "<!-- --></div>\n",
       "</div>\n",
       "</li><li class=\"pv-profile-section__sortable-item pv-profile-section__section-info-item relative pv-profile-section__sortable-item--v2 pv-profile-section__list-item sortable-item ember-view\" id=\"ember151\"> <div class=\"pv-profile-section__sortable-card-item pv-education-entity pv-profile-section__card-item ember-view\" id=\"373985416\"><div class=\"display-flex justify-space-between full-width\">\n",
       "<div class=\"display-flex flex-column full-width\">\n",
       "<a class=\"ember-view\" data-control-name=\"background_details_school\" href=\"/search/results/index/?keywords=S.H.S.B.B\" id=\"ember153\"> <div class=\"pv-entity__logo\">\n",
       "<img alt=\"S.H.S.B.B\" class=\"pv-entity__logo-img pv-entity__logo-img EntityPhoto-square-4 lazy-image ghost-school loaded ember-view\" id=\"ember155\" src=\"data:image/gif;base64,R0lGODlhAQABAIAAAAAAAP///yH5BAEAAAAALAAAAAABAAEAAAIBRAA7\"/>\n",
       "</div>\n",
       "<div class=\"pv-entity__summary-info pv-entity__summary-info--background-section\">\n",
       "<div class=\"pv-entity__degree-info\">\n",
       "<h3 class=\"pv-entity__school-name t-16 t-black t-bold\">S.H.S.B.B</h3>\n",
       "<!-- --> <p class=\"pv-entity__secondary-title pv-entity__fos t-14 t-black t-normal\">\n",
       "<span class=\"visually-hidden\">Field Of Study</span>\n",
       "<span class=\"pv-entity__comma-item\">PCM</span>\n",
       "</p>\n",
       "<!-- --> </div>\n",
       "<!-- -->\n",
       "<!-- --></div>\n",
       "</a>\n",
       "<!-- --> </div>\n",
       "<!-- --></div>\n",
       "</div>\n",
       "</li>\n",
       "</ul>"
      ]
     },
     "execution_count": 41,
     "metadata": {},
     "output_type": "execute_result"
    }
   ],
   "source": [
    "edu_section = soup.find('section', {'id': 'education-section'}).find('ul')\n",
    "edu_section"
   ]
  },
  {
   "cell_type": "code",
   "execution_count": 44,
   "metadata": {},
   "outputs": [
    {
     "data": {
      "text/plain": [
       "'Technocrats Institute of Technology (Excellence), Anand Nagar, PB No. 24, Post Piplani, BHEL, Bhopal - 462021'"
      ]
     },
     "execution_count": 44,
     "metadata": {},
     "output_type": "execute_result"
    }
   ],
   "source": [
    "college_name = edu_section.find('h3').get_text().strip()\n",
    "college_name"
   ]
  },
  {
   "cell_type": "code",
   "execution_count": 49,
   "metadata": {},
   "outputs": [
    {
     "data": {
      "text/plain": [
       "'Bachelor of Engineering (B.E.)'"
      ]
     },
     "execution_count": 49,
     "metadata": {},
     "output_type": "execute_result"
    }
   ],
   "source": [
    "degree_name = edu_section.find('p', {'class': 'pv-entity__secondary-title pv-entity__degree-name t-14 t-black t-normal'}).find_all('span')[1].get_text().strip()\n",
    "degree_name"
   ]
  },
  {
   "cell_type": "code",
   "execution_count": 50,
   "metadata": {},
   "outputs": [
    {
     "data": {
      "text/plain": [
       "'Electrical, Electronics and Communications Engineering'"
      ]
     },
     "execution_count": 50,
     "metadata": {},
     "output_type": "execute_result"
    }
   ],
   "source": [
    "stream = edu_section.find('p', {'class': 'pv-entity__secondary-title pv-entity__fos t-14 t-black t-normal'}).find_all('span')[1].get_text().strip()\n",
    "stream"
   ]
  },
  {
   "cell_type": "code",
   "execution_count": 51,
   "metadata": {},
   "outputs": [
    {
     "data": {
      "text/plain": [
       "'2012 – 2016'"
      ]
     },
     "execution_count": 51,
     "metadata": {},
     "output_type": "execute_result"
    }
   ],
   "source": [
    "degree_year = edu_section.find('p', {'class': 'pv-entity__dates t-14 t-black--light t-normal'}).find_all('span')[1].get_text().strip()\n",
    "degree_year"
   ]
  },
  {
   "cell_type": "code",
   "execution_count": 52,
   "metadata": {},
   "outputs": [
    {
     "data": {
      "text/plain": [
       "['https://www.linkedin.com/in/rishabh-singh-61b706114/',\n",
       " 'Rishabh Singh',\n",
       " 'FPGA Engineer at Honeywell',\n",
       " 'Bengaluru, Karnataka, India',\n",
       " '500+ connections',\n",
       " 'Honeywell',\n",
       " 'FPGA Engineer',\n",
       " 'Aug 2019 – Present',\n",
       " '3 mos']"
      ]
     },
     "execution_count": 52,
     "metadata": {},
     "output_type": "execute_result"
    }
   ],
   "source": [
    "info"
   ]
  },
  {
   "cell_type": "code",
   "execution_count": 53,
   "metadata": {},
   "outputs": [],
   "source": [
    "info.append(college_name)\n",
    "info.append(degree_name)\n",
    "info.append(stream)\n",
    "info.append(degree_year)"
   ]
  },
  {
   "cell_type": "code",
   "execution_count": 54,
   "metadata": {},
   "outputs": [
    {
     "data": {
      "text/plain": [
       "['https://www.linkedin.com/in/rishabh-singh-61b706114/',\n",
       " 'Rishabh Singh',\n",
       " 'FPGA Engineer at Honeywell',\n",
       " 'Bengaluru, Karnataka, India',\n",
       " '500+ connections',\n",
       " 'Honeywell',\n",
       " 'FPGA Engineer',\n",
       " 'Aug 2019 – Present',\n",
       " '3 mos',\n",
       " 'Technocrats Institute of Technology (Excellence), Anand Nagar, PB No. 24, Post Piplani, BHEL, Bhopal - 462021',\n",
       " 'Bachelor of Engineering (B.E.)',\n",
       " 'Electrical, Electronics and Communications Engineering',\n",
       " '2012 – 2016']"
      ]
     },
     "execution_count": 54,
     "metadata": {},
     "output_type": "execute_result"
    }
   ],
   "source": [
    "info"
   ]
  },
  {
   "cell_type": "code",
   "execution_count": null,
   "metadata": {},
   "outputs": [],
   "source": []
  },
  {
   "cell_type": "code",
   "execution_count": null,
   "metadata": {},
   "outputs": [],
   "source": []
  },
  {
   "cell_type": "code",
   "execution_count": null,
   "metadata": {},
   "outputs": [],
   "source": []
  },
  {
   "cell_type": "code",
   "execution_count": null,
   "metadata": {},
   "outputs": [],
   "source": []
  },
  {
   "cell_type": "code",
   "execution_count": null,
   "metadata": {},
   "outputs": [],
   "source": []
  },
  {
   "cell_type": "code",
   "execution_count": null,
   "metadata": {},
   "outputs": [],
   "source": []
  },
  {
   "cell_type": "code",
   "execution_count": null,
   "metadata": {},
   "outputs": [],
   "source": []
  },
  {
   "cell_type": "code",
   "execution_count": null,
   "metadata": {},
   "outputs": [],
   "source": []
  },
  {
   "cell_type": "code",
   "execution_count": null,
   "metadata": {},
   "outputs": [],
   "source": []
  },
  {
   "cell_type": "code",
   "execution_count": null,
   "metadata": {},
   "outputs": [],
   "source": []
  },
  {
   "cell_type": "code",
   "execution_count": null,
   "metadata": {},
   "outputs": [],
   "source": []
  },
  {
   "cell_type": "code",
   "execution_count": null,
   "metadata": {},
   "outputs": [],
   "source": []
  },
  {
   "cell_type": "code",
   "execution_count": null,
   "metadata": {},
   "outputs": [],
   "source": []
  },
  {
   "cell_type": "code",
   "execution_count": null,
   "metadata": {},
   "outputs": [],
   "source": []
  },
  {
   "cell_type": "code",
   "execution_count": null,
   "metadata": {},
   "outputs": [],
   "source": []
  },
  {
   "cell_type": "code",
   "execution_count": null,
   "metadata": {},
   "outputs": [],
   "source": []
  }
 ],
 "metadata": {
  "kernelspec": {
   "display_name": "Python 3",
   "language": "python",
   "name": "python3"
  },
  "language_info": {
   "codemirror_mode": {
    "name": "ipython",
    "version": 3
   },
   "file_extension": ".py",
   "mimetype": "text/x-python",
   "name": "python",
   "nbconvert_exporter": "python",
   "pygments_lexer": "ipython3",
   "version": "3.7.4"
  }
 },
 "nbformat": 4,
 "nbformat_minor": 2
}
